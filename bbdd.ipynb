{
  "nbformat": 4,
  "nbformat_minor": 0,
  "metadata": {
    "colab": {
      "provenance": []
    },
    "kernelspec": {
      "name": "python3",
      "display_name": "Python 3"
    },
    "language_info": {
      "name": "python"
    }
  },
  "cells": [
    {
      "cell_type": "markdown",
      "source": [
        "1. Preparación del entorno"
      ],
      "metadata": {
        "id": "ZO13OjBg5v3l"
      }
    },
    {
      "cell_type": "code",
      "source": [
        "!pip install mysql-connector-python"
      ],
      "metadata": {
        "colab": {
          "base_uri": "https://localhost:8080/"
        },
        "id": "4mW27lMO5q8F",
        "outputId": "a1998c73-a9d9-4354-a93f-87b1330a14ea"
      },
      "execution_count": 1,
      "outputs": [
        {
          "output_type": "stream",
          "name": "stdout",
          "text": [
            "Collecting mysql-connector-python\n",
            "  Downloading mysql_connector_python-8.3.0-cp310-cp310-manylinux_2_17_x86_64.whl (21.5 MB)\n",
            "\u001b[2K     \u001b[90m━━━━━━━━━━━━━━━━━━━━━━━━━━━━━━━━━━━━━━━━\u001b[0m \u001b[32m21.5/21.5 MB\u001b[0m \u001b[31m39.4 MB/s\u001b[0m eta \u001b[36m0:00:00\u001b[0m\n",
            "\u001b[?25hInstalling collected packages: mysql-connector-python\n",
            "Successfully installed mysql-connector-python-8.3.0\n"
          ]
        }
      ]
    },
    {
      "cell_type": "markdown",
      "source": [
        "2.- Instalación de un servidor de BBDD relacional"
      ],
      "metadata": {
        "id": "MJk19hA455I4"
      }
    },
    {
      "cell_type": "code",
      "source": [
        "!apt-get -y install mysql-server"
      ],
      "metadata": {
        "colab": {
          "base_uri": "https://localhost:8080/"
        },
        "id": "eXrZQ6fl6Kcd",
        "outputId": "78c69f83-24f3-413c-c8bf-d004bd90d05b"
      },
      "execution_count": 2,
      "outputs": [
        {
          "output_type": "stream",
          "name": "stdout",
          "text": [
            "Reading package lists... Done\n",
            "Building dependency tree... Done\n",
            "Reading state information... Done\n",
            "The following additional packages will be installed:\n",
            "\n"
          ]
        }
      ]
    },
    {
      "cell_type": "markdown",
      "source": [
        "3.- Iniciando el servidor de MySQL"
      ],
      "metadata": {
        "id": "u67GTWOH6aLn"
      }
    },
    {
      "cell_type": "markdown",
      "source": [
        "4.- Instalación segura"
      ],
      "metadata": {
        "id": "GCs6LQ_96r5y"
      }
    },
    {
      "cell_type": "code",
      "source": [
        "!mysql -e \"ALTER USER 'root'@'localhost' IDENTIFIED WITH 'mysql_native_password' BY 'root';FLUSH PRIVILEGES;\"\n"
      ],
      "metadata": {
        "id": "PUW03kg76raL"
      },
      "execution_count": 6,
      "outputs": []
    },
    {
      "cell_type": "markdown",
      "source": [
        "5.- Conexión a MySQL y creación de tablas"
      ],
      "metadata": {
        "id": "U0yHPMdX7YHN"
      }
    },
    {
      "cell_type": "code",
      "source": [
        "import mysql.connector\n",
        "\n",
        "# Crear una conexión al servidor MySQL\n",
        "conn = mysql.connector.connect(user='root', password='root', host='localhost')\n",
        "\n",
        "# Crear un cursor para interactuar con el servidor MySQL\n",
        "cursor = conn.cursor()\n",
        "\n",
        "# Creación de una nueva base de datos 'meteoDB'\n",
        "cursor.execute(\"CREATE DATABASE IF NOT EXISTS meteoDB\")\n",
        "\n",
        "# Se hace 'USO' de la BBDD 'meteoDB\n",
        "cursor.execute(\"USE meteoDB\")\n",
        "\n",
        "# Crear la tabla 'weatherStation' y 'weatherData'\n",
        "\n",
        "cursor.execute('''\n",
        "CREATE TABLE IF NOT EXISTS weatherStation (\n",
        "    id INT AUTO_INCREMENT PRIMARY KEY,\n",
        "    name VARCHAR(255) NOT NULL,\n",
        "    province VARCHAR(255) NOT NULL,\n",
        "    latitude FLOAT,\n",
        "    longitude FLOAT\n",
        ");\n",
        "''')\n",
        "\n",
        "cursor.execute('''\n",
        "CREATE TABLE IF NOT EXISTS weatherData (\n",
        "    id INT AUTO_INCREMENT PRIMARY KEY,\n",
        "    date DATE NOT NULL,\n",
        "    avgAirTemperature FLOAT,\n",
        "    precipitation FLOAT,\n",
        "    minAirTemperature FLOAT,\n",
        "    maxAirTemperature FLOAT,\n",
        "    station_id INT,\n",
        "    FOREIGN KEY (station_id) REFERENCES weatherStation(id)\n",
        ");\n",
        "''')\n",
        "\n",
        "cursor.close()\n",
        "conn.close()"
      ],
      "metadata": {
        "id": "4oeEV3zL7lCD"
      },
      "execution_count": 11,
      "outputs": []
    },
    {
      "cell_type": "markdown",
      "source": [
        "6.- Consultas SQL"
      ],
      "metadata": {
        "id": "Wf_Q1u5dINX9"
      }
    },
    {
      "cell_type": "code",
      "source": [
        "import mysql.connector\n",
        "\n",
        "# Crear una conexión al servidor MySQL\n",
        "conn = mysql.connector.connect(user='root', password='root', host='localhost', database='meteoDB')\n",
        "\n",
        "cursor = conn.cursor()\n",
        "\n",
        "cursor.execute(\"DELETE FROM weatherData\")\n",
        "cursor.execute(\"DELETE FROM weatherStation\")\n",
        "\n",
        "stations = [\n",
        "    ('100', 'MANRESA','BARCELONA',41.72, 1.84),\n",
        "    ('200', 'PORQUERES','GIRONA',42.10, 2.76),\n",
        "    ('300','PORQUERES','GIRONA',42.10, 2.76),\n",
        "    ('400', 'BARCELONA, FABRA','BARCELONA',41.41, 2.12)\n",
        "]\n",
        "\n",
        "cursor.executemany('''\n",
        "INSERT INTO weatherStation (id, name, province, latitude, longitude)\n",
        "  VALUES   (%s, %s, %s, %s, %s)\n",
        "''', stations)\n",
        "\n",
        "\n",
        "data = [\n",
        "    ( '2023-11-10', '18.1', '0', '11.4', '24.8', '100'),\n",
        "    ( '2023-11-11', '13.5', '0', '7.8', '19.2', '200'),\n",
        "    ( '2023-11-12', '13.4', '0', '8.8', '18.1', '200'),\n",
        "    ( '2023-11-13', '18.1', '20', '19.4', '24.8', '300'),\n",
        "    ( '2023-11-14', '13.6', '5', '9.9', '19.2', '300'),\n",
        "    ( '2023-11-15', '12.4', '6', '6.7', '20.3', '300')\n",
        "]\n",
        "\n",
        "cursor.executemany('''\n",
        "INSERT INTO weatherData  (date, avgAirTemperature, precipitation, minAirTemperature, maxAirTemperature, station_id)\n",
        "  VALUES   (%s, %s, %s, %s, %s, %s)\n",
        "''', data)\n",
        "\n",
        "conn.commit()\n",
        "\n",
        "\n",
        "cursor.close()\n",
        "conn.close()"
      ],
      "metadata": {
        "id": "AJaEISvlJhto"
      },
      "execution_count": 4,
      "outputs": []
    },
    {
      "cell_type": "code",
      "source": [
        "\n",
        "import mysql.connector\n",
        "\n",
        "# Crear una conexión al servidor MySQL\n",
        "conn = mysql.connector.connect(user='root', password='root', host='localhost', database='meteoDB')\n",
        "\n",
        "\n",
        "# Crear un cursor para interactuar con el servidor MySQL\n",
        "cursor = conn.cursor()\n",
        "cursor.execute(\"SELECT *  FROM weatherStation \")\n",
        "records = cursor.fetchall()\n",
        "\n",
        "\n",
        "for record in records:\n",
        "    print(record)"
      ],
      "metadata": {
        "colab": {
          "base_uri": "https://localhost:8080/"
        },
        "id": "uJdNJQJ-IH1M",
        "outputId": "8f00ac7c-a662-44ca-f345-29b3fc6a6257"
      },
      "execution_count": 20,
      "outputs": [
        {
          "output_type": "stream",
          "name": "stdout",
          "text": [
            "(100, 'MANRESA', 'BARCELONA', 41.72, 1.84)\n",
            "(200, 'PORQUERES', 'GIRONA', 42.1, 2.76)\n",
            "(300, 'PORQUERES', 'GIRONA', 42.1, 2.76)\n",
            "(400, 'BARCELONA, FABRA', 'BARCELONA', 41.41, 2.12)\n"
          ]
        }
      ]
    },
    {
      "cell_type": "code",
      "source": [
        "import mysql.connector\n",
        "\n",
        "# Crear una conexión al servidor MySQL\n",
        "conn = mysql.connector.connect(user='root', password='root', host='localhost', database='meteoDB')\n",
        "\n",
        "\n",
        "# Crear un cursor para interactuar con el servidor MySQL\n",
        "cursor = conn.cursor()\n",
        "\n",
        "cursor.execute(\"SELECT *  FROM weatherData\")\n",
        "records = cursor.fetchall()\n",
        "\n",
        "for record in records:\n",
        "    print(record)"
      ],
      "metadata": {
        "colab": {
          "base_uri": "https://localhost:8080/"
        },
        "id": "gH6SZ7pTYHEW",
        "outputId": "077a413f-a9df-43be-9e61-52b923e6a310"
      },
      "execution_count": 21,
      "outputs": [
        {
          "output_type": "stream",
          "name": "stdout",
          "text": [
            "(6, datetime.date(2023, 11, 10), 18.1, 0.0, 11.4, 24.8, 100)\n",
            "(7, datetime.date(2023, 11, 11), 13.5, 0.0, 7.8, 19.2, 200)\n",
            "(8, datetime.date(2023, 11, 12), 13.4, 0.0, 8.8, 18.1, 200)\n",
            "(9, datetime.date(2023, 11, 13), 18.1, 20.0, 19.4, 24.8, 300)\n",
            "(10, datetime.date(2023, 11, 14), 13.6, 5.0, 9.9, 19.2, 300)\n",
            "(11, datetime.date(2023, 11, 15), 12.4, 6.0, 6.7, 20.3, 300)\n"
          ]
        }
      ]
    },
    {
      "cell_type": "code",
      "source": [
        "import mysql.connector\n",
        "\n",
        "# Crear una conexión al servidor MySQL\n",
        "conn = mysql.connector.connect(user='root', password='root', host='localhost', database='meteoDB')\n",
        "\n",
        "\n",
        "# Crear un cursor para interactuar con el servidor MySQL\n",
        "cursor = conn.cursor()\n",
        "\n",
        "# Ejecutar la query\n",
        "cursor.execute(\"SELECT *  FROM weatherData where station_id = 300\")\n",
        "\n",
        "records = cursor.fetchall()\n",
        "\n",
        "# Resultado de la consulta\n",
        "for record in records:\n",
        "    print(record)"
      ],
      "metadata": {
        "colab": {
          "base_uri": "https://localhost:8080/"
        },
        "id": "X2xVo_qWYRP_",
        "outputId": "803c529c-0669-4d8c-9d89-c5f361b7a973"
      },
      "execution_count": 22,
      "outputs": [
        {
          "output_type": "stream",
          "name": "stdout",
          "text": [
            "(9, datetime.date(2023, 11, 13), 18.1, 20.0, 19.4, 24.8, 300)\n",
            "(10, datetime.date(2023, 11, 14), 13.6, 5.0, 9.9, 19.2, 300)\n",
            "(11, datetime.date(2023, 11, 15), 12.4, 6.0, 6.7, 20.3, 300)\n"
          ]
        }
      ]
    },
    {
      "cell_type": "code",
      "source": [
        "import mysql.connector\n",
        "\n",
        "# Crear una conexión al servidor MySQL\n",
        "conn = mysql.connector.connect(user='root', password='root', host='localhost', database='meteoDB')\n",
        "\n",
        "\n",
        "cursor = conn.cursor()\n",
        "cursor.execute(\"SELECT *  FROM weatherStation s, weatherData d WHERE s.id = d.station_id\")\n",
        "records = cursor.fetchall()\n",
        "\n",
        "for record in records:\n",
        "    print(record)"
      ],
      "metadata": {
        "colab": {
          "base_uri": "https://localhost:8080/"
        },
        "id": "6EGU7ofcYa0H",
        "outputId": "a7c0b124-511a-42be-e729-a93bc98101d2"
      },
      "execution_count": 9,
      "outputs": [
        {
          "output_type": "stream",
          "name": "stdout",
          "text": [
            "(100, 'MANRESA', 'BARCELONA', 41.72, 1.84, 6, datetime.date(2023, 11, 10), 18.1, 0.0, 11.4, 24.8, 100)\n",
            "(200, 'PORQUERES', 'GIRONA', 42.1, 2.76, 7, datetime.date(2023, 11, 11), 13.5, 0.0, 7.8, 19.2, 200)\n",
            "(200, 'PORQUERES', 'GIRONA', 42.1, 2.76, 8, datetime.date(2023, 11, 12), 13.4, 0.0, 8.8, 18.1, 200)\n",
            "(300, 'PORQUERES', 'GIRONA', 42.1, 2.76, 9, datetime.date(2023, 11, 13), 18.1, 20.0, 19.4, 24.8, 300)\n",
            "(300, 'PORQUERES', 'GIRONA', 42.1, 2.76, 10, datetime.date(2023, 11, 14), 13.6, 5.0, 9.9, 19.2, 300)\n",
            "(300, 'PORQUERES', 'GIRONA', 42.1, 2.76, 11, datetime.date(2023, 11, 15), 12.4, 6.0, 6.7, 20.3, 300)\n"
          ]
        }
      ]
    },
    {
      "cell_type": "code",
      "source": [
        "import mysql.connector\n",
        "\n",
        "# Crear una conexión al servidor MySQL\n",
        "conn = mysql.connector.connect(user='root', password='root', host='localhost', database='meteoDB')\n",
        "\n",
        "\n",
        "# Crear un cursor para interactuar con el servidor MySQL\n",
        "cursor = conn.cursor()\n",
        "\n",
        "cursor.execute('''\n",
        "SELECT s.name,\n",
        "  AVG(avgAirTemperature) AS avgAvgAirTemperature,\n",
        "  AVG(precipitation) AS avgPrecipitation,\n",
        "  AVG(minAirTemperature) AS avgMinAirTemperature,\n",
        "  AVG(maxAirTemperature) AS avgMaxAirTemperature\n",
        "  FROM weatherStation s, weatherData d\n",
        "  GROUP BY s.name;\n",
        "''')\n",
        "\n",
        "records = cursor.fetchall()\n",
        "\n",
        "for record in records:\n",
        "    print(record)"
      ],
      "metadata": {
        "colab": {
          "base_uri": "https://localhost:8080/"
        },
        "id": "tRZrd4nQYjLA",
        "outputId": "cef59047-d799-4d63-eec9-7dc989772da8"
      },
      "execution_count": 18,
      "outputs": [
        {
          "output_type": "stream",
          "name": "stdout",
          "text": [
            "('BARCELONA, FABRA', 14.850000063578287, 5.166666666666667, 10.666666507720947, 21.06666660308838)\n",
            "('PORQUERES', 14.850000063578287, 5.166666666666667, 10.666666507720947, 21.06666660308838)\n",
            "('MANRESA', 14.850000063578287, 5.166666666666667, 10.666666507720947, 21.06666660308838)\n"
          ]
        }
      ]
    },
    {
      "cell_type": "code",
      "source": [
        "import mysql.connector\n",
        "\n",
        "# Crear una conexión al servidor MySQL\n",
        "conn = mysql.connector.connect(user='root', password='root', host='localhost', database='meteoDB')\n",
        "\n",
        "# Crear un cursor para interactuar con el servidor MySQL\n",
        "cursor = conn.cursor()\n",
        "\n",
        "# borrar las tablas\n",
        "cursor.execute('''\n",
        "DROP TABLE IF EXISTS weatherData;\n",
        "DROP TABLE IF EXISTS weatherStation;\n",
        "''')\n",
        "\n",
        "cursor.close()\n",
        "conn.close()"
      ],
      "metadata": {
        "id": "ktsiWfxM_D0b"
      },
      "execution_count": 2,
      "outputs": []
    },
    {
      "cell_type": "code",
      "source": [
        "import pandas as pd\n",
        "\n",
        "# Connect to MySQL\n",
        "conn = mysql.connector.connect(user='root', password='root', host='localhost', database='meteoDB')\n",
        "\n",
        "# Fetch data into a pandas DataFrame\n",
        "query = \"SELECT * FROM weatherData\"\n",
        "df = pd.read_sql(query, conn)\n",
        "\n",
        "print(df.info())\n",
        "\n",
        "print(df.head())\n"
      ],
      "metadata": {
        "colab": {
          "base_uri": "https://localhost:8080/"
        },
        "id": "j74d3PTmQf6k",
        "outputId": "99d4ecd6-114f-4e94-ede5-0bcc0cc2f58d"
      },
      "execution_count": 19,
      "outputs": [
        {
          "output_type": "stream",
          "name": "stdout",
          "text": [
            "<class 'pandas.core.frame.DataFrame'>\n",
            "RangeIndex: 6 entries, 0 to 5\n",
            "Data columns (total 7 columns):\n",
            " #   Column             Non-Null Count  Dtype  \n",
            "---  ------             --------------  -----  \n",
            " 0   id                 6 non-null      int64  \n",
            " 1   date               6 non-null      object \n",
            " 2   avgAirTemperature  6 non-null      float64\n",
            " 3   precipitation      6 non-null      float64\n",
            " 4   minAirTemperature  6 non-null      float64\n",
            " 5   maxAirTemperature  6 non-null      float64\n",
            " 6   station_id         6 non-null      int64  \n",
            "dtypes: float64(4), int64(2), object(1)\n",
            "memory usage: 464.0+ bytes\n",
            "None\n",
            "   id        date  avgAirTemperature  precipitation  minAirTemperature  \\\n",
            "0   6  2023-11-10               18.1            0.0               11.4   \n",
            "1   7  2023-11-11               13.5            0.0                7.8   \n",
            "2   8  2023-11-12               13.4            0.0                8.8   \n",
            "3   9  2023-11-13               18.1           20.0               19.4   \n",
            "4  10  2023-11-14               13.6            5.0                9.9   \n",
            "\n",
            "   maxAirTemperature  station_id  \n",
            "0               24.8         100  \n",
            "1               19.2         200  \n",
            "2               18.1         200  \n",
            "3               24.8         300  \n",
            "4               19.2         300  \n"
          ]
        },
        {
          "output_type": "stream",
          "name": "stderr",
          "text": [
            "<ipython-input-19-2d3e21e06913>:8: UserWarning: pandas only supports SQLAlchemy connectable (engine/connection) or database string URI or sqlite3 DBAPI2 connection. Other DBAPI2 objects are not tested. Please consider using SQLAlchemy.\n",
            "  df = pd.read_sql(query, conn)\n"
          ]
        }
      ]
    }
  ]
}
