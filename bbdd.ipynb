{
  "nbformat": 4,
  "nbformat_minor": 0,
  "metadata": {
    "colab": {
      "provenance": []
    },
    "kernelspec": {
      "name": "python3",
      "display_name": "Python 3"
    },
    "language_info": {
      "name": "python"
    }
  },
  "cells": [
    {
      "cell_type": "markdown",
      "source": [
        "1. Preparación del entorno"
      ],
      "metadata": {
        "id": "ZO13OjBg5v3l"
      }
    },
    {
      "cell_type": "code",
      "source": [
        "!pip install mysql-connector-python"
      ],
      "metadata": {
        "colab": {
          "base_uri": "https://localhost:8080/"
        },
        "id": "4mW27lMO5q8F",
        "outputId": "a1998c73-a9d9-4354-a93f-87b1330a14ea"
      },
      "execution_count": 1,
      "outputs": [
        {
          "output_type": "stream",
          "name": "stdout",
          "text": [
            "Collecting mysql-connector-python\n",
            "  Downloading mysql_connector_python-8.3.0-cp310-cp310-manylinux_2_17_x86_64.whl (21.5 MB)\n",
            "\u001b[2K     \u001b[90m━━━━━━━━━━━━━━━━━━━━━━━━━━━━━━━━━━━━━━━━\u001b[0m \u001b[32m21.5/21.5 MB\u001b[0m \u001b[31m39.4 MB/s\u001b[0m eta \u001b[36m0:00:00\u001b[0m\n",
            "\u001b[?25hInstalling collected packages: mysql-connector-python\n",
            "Successfully installed mysql-connector-python-8.3.0\n"
          ]
        }
      ]
    },
    {
      "cell_type": "markdown",
      "source": [
        "2.- Instalación de un servidor de BBDD relacional"
      ],
      "metadata": {
        "id": "MJk19hA455I4"
      }
    },
    {
      "cell_type": "code",
      "source": [
        "!apt-get -y install mysql-server"
      ],
      "metadata": {
        "colab": {
          "base_uri": "https://localhost:8080/"
        },
        "id": "eXrZQ6fl6Kcd",
        "outputId": "78c69f83-24f3-413c-c8bf-d004bd90d05b"
      },
      "execution_count": 2,
      "outputs": [
        {
          "output_type": "stream",
          "name": "stdout",
          "text": [
            "Reading package lists... Done\n",
            "Building dependency tree... Done\n",
            "Reading state information... Done\n",
            "The following additional packages will be installed:\n",
            "  libcgi-fast-perl libcgi-pm-perl libclone-perl libencode-locale-perl libfcgi-bin libfcgi-perl\n",
            "  libfcgi0ldbl libhtml-parser-perl libhtml-tagset-perl libhtml-template-perl libhttp-date-perl\n",
            "  libhttp-message-perl libio-html-perl liblwp-mediatypes-perl libmecab2 libprotobuf-lite23\n",
            "  liburi-perl mecab-ipadic mecab-ipadic-utf8 mecab-utils mysql-client-8.0 mysql-client-core-8.0\n",
            "  mysql-server-8.0 mysql-server-core-8.0\n",
            "Suggested packages:\n",
            "  libdata-dump-perl libipc-sharedcache-perl libbusiness-isbn-perl libwww-perl mailx tinyca\n",
            "The following NEW packages will be installed:\n",
            "  libcgi-fast-perl libcgi-pm-perl libclone-perl libencode-locale-perl libfcgi-bin libfcgi-perl\n",
            "  libfcgi0ldbl libhtml-parser-perl libhtml-tagset-perl libhtml-template-perl libhttp-date-perl\n",
            "  libhttp-message-perl libio-html-perl liblwp-mediatypes-perl libmecab2 libprotobuf-lite23\n",
            "  liburi-perl mecab-ipadic mecab-ipadic-utf8 mecab-utils mysql-client-8.0 mysql-client-core-8.0\n",
            "  mysql-server mysql-server-8.0 mysql-server-core-8.0\n",
            "0 upgraded, 25 newly installed, 0 to remove and 45 not upgraded.\n",
            "Need to get 29.4 MB of archives.\n",
            "After this operation, 243 MB of additional disk space will be used.\n",
            "Get:1 http://archive.ubuntu.com/ubuntu jammy-updates/main amd64 mysql-client-core-8.0 amd64 8.0.36-0ubuntu0.22.04.1 [2,692 kB]\n",
            "Get:2 http://archive.ubuntu.com/ubuntu jammy-updates/main amd64 mysql-client-8.0 amd64 8.0.36-0ubuntu0.22.04.1 [22.7 kB]\n",
            "Get:3 http://archive.ubuntu.com/ubuntu jammy/main amd64 libmecab2 amd64 0.996-14build9 [199 kB]\n",
            "Get:4 http://archive.ubuntu.com/ubuntu jammy-updates/main amd64 libprotobuf-lite23 amd64 3.12.4-1ubuntu7.22.04.1 [209 kB]\n",
            "Get:5 http://archive.ubuntu.com/ubuntu jammy-updates/main amd64 mysql-server-core-8.0 amd64 8.0.36-0ubuntu0.22.04.1 [17.5 MB]\n",
            "Get:6 http://archive.ubuntu.com/ubuntu jammy-updates/main amd64 mysql-server-8.0 amd64 8.0.36-0ubuntu0.22.04.1 [1,437 kB]\n",
            "Get:7 http://archive.ubuntu.com/ubuntu jammy/main amd64 libhtml-tagset-perl all 3.20-4 [12.5 kB]\n",
            "Get:8 http://archive.ubuntu.com/ubuntu jammy/main amd64 liburi-perl all 5.10-1 [78.8 kB]\n",
            "Get:9 http://archive.ubuntu.com/ubuntu jammy/main amd64 libhtml-parser-perl amd64 3.76-1build2 [88.4 kB]\n",
            "Get:10 http://archive.ubuntu.com/ubuntu jammy/main amd64 libcgi-pm-perl all 4.54-1 [188 kB]\n",
            "Get:11 http://archive.ubuntu.com/ubuntu jammy/main amd64 libfcgi0ldbl amd64 2.4.2-2build2 [28.0 kB]\n",
            "Get:12 http://archive.ubuntu.com/ubuntu jammy/main amd64 libfcgi-perl amd64 0.82+ds-1build1 [22.8 kB]\n",
            "Get:13 http://archive.ubuntu.com/ubuntu jammy/main amd64 libcgi-fast-perl all 1:2.15-1 [10.5 kB]\n",
            "Get:14 http://archive.ubuntu.com/ubuntu jammy/main amd64 libclone-perl amd64 0.45-1build3 [11.0 kB]\n",
            "Get:15 http://archive.ubuntu.com/ubuntu jammy/main amd64 libencode-locale-perl all 1.05-1.1 [11.8 kB]\n",
            "Get:16 http://archive.ubuntu.com/ubuntu jammy/main amd64 libfcgi-bin amd64 2.4.2-2build2 [11.2 kB]\n",
            "Get:17 http://archive.ubuntu.com/ubuntu jammy/main amd64 libhtml-template-perl all 2.97-1.1 [59.1 kB]\n",
            "Get:18 http://archive.ubuntu.com/ubuntu jammy/main amd64 libhttp-date-perl all 6.05-1 [9,920 B]\n",
            "Get:19 http://archive.ubuntu.com/ubuntu jammy/main amd64 libio-html-perl all 1.004-2 [15.4 kB]\n",
            "Get:20 http://archive.ubuntu.com/ubuntu jammy/main amd64 liblwp-mediatypes-perl all 6.04-1 [19.5 kB]\n",
            "Get:21 http://archive.ubuntu.com/ubuntu jammy/main amd64 libhttp-message-perl all 6.36-1 [76.8 kB]\n",
            "Get:22 http://archive.ubuntu.com/ubuntu jammy/main amd64 mecab-utils amd64 0.996-14build9 [4,850 B]\n",
            "Get:23 http://archive.ubuntu.com/ubuntu jammy/main amd64 mecab-ipadic all 2.7.0-20070801+main-3 [6,718 kB]\n",
            "Get:24 http://archive.ubuntu.com/ubuntu jammy/main amd64 mecab-ipadic-utf8 all 2.7.0-20070801+main-3 [4,384 B]\n",
            "Get:25 http://archive.ubuntu.com/ubuntu jammy-updates/main amd64 mysql-server all 8.0.36-0ubuntu0.22.04.1 [9,460 B]\n",
            "Fetched 29.4 MB in 0s (60.2 MB/s)\n",
            "Preconfiguring packages ...\n",
            "Selecting previously unselected package mysql-client-core-8.0.\n",
            "(Reading database ... 121752 files and directories currently installed.)\n",
            "Preparing to unpack .../00-mysql-client-core-8.0_8.0.36-0ubuntu0.22.04.1_amd64.deb ...\n",
            "Unpacking mysql-client-core-8.0 (8.0.36-0ubuntu0.22.04.1) ...\n",
            "Selecting previously unselected package mysql-client-8.0.\n",
            "Preparing to unpack .../01-mysql-client-8.0_8.0.36-0ubuntu0.22.04.1_amd64.deb ...\n",
            "Unpacking mysql-client-8.0 (8.0.36-0ubuntu0.22.04.1) ...\n",
            "Selecting previously unselected package libmecab2:amd64.\n",
            "Preparing to unpack .../02-libmecab2_0.996-14build9_amd64.deb ...\n",
            "Unpacking libmecab2:amd64 (0.996-14build9) ...\n",
            "Selecting previously unselected package libprotobuf-lite23:amd64.\n",
            "Preparing to unpack .../03-libprotobuf-lite23_3.12.4-1ubuntu7.22.04.1_amd64.deb ...\n",
            "Unpacking libprotobuf-lite23:amd64 (3.12.4-1ubuntu7.22.04.1) ...\n",
            "Selecting previously unselected package mysql-server-core-8.0.\n",
            "Preparing to unpack .../04-mysql-server-core-8.0_8.0.36-0ubuntu0.22.04.1_amd64.deb ...\n",
            "Unpacking mysql-server-core-8.0 (8.0.36-0ubuntu0.22.04.1) ...\n",
            "Selecting previously unselected package mysql-server-8.0.\n",
            "Preparing to unpack .../05-mysql-server-8.0_8.0.36-0ubuntu0.22.04.1_amd64.deb ...\n",
            "Unpacking mysql-server-8.0 (8.0.36-0ubuntu0.22.04.1) ...\n",
            "Selecting previously unselected package libhtml-tagset-perl.\n",
            "Preparing to unpack .../06-libhtml-tagset-perl_3.20-4_all.deb ...\n",
            "Unpacking libhtml-tagset-perl (3.20-4) ...\n",
            "Selecting previously unselected package liburi-perl.\n",
            "Preparing to unpack .../07-liburi-perl_5.10-1_all.deb ...\n",
            "Unpacking liburi-perl (5.10-1) ...\n",
            "Selecting previously unselected package libhtml-parser-perl:amd64.\n",
            "Preparing to unpack .../08-libhtml-parser-perl_3.76-1build2_amd64.deb ...\n",
            "Unpacking libhtml-parser-perl:amd64 (3.76-1build2) ...\n",
            "Selecting previously unselected package libcgi-pm-perl.\n",
            "Preparing to unpack .../09-libcgi-pm-perl_4.54-1_all.deb ...\n",
            "Unpacking libcgi-pm-perl (4.54-1) ...\n",
            "Selecting previously unselected package libfcgi0ldbl:amd64.\n",
            "Preparing to unpack .../10-libfcgi0ldbl_2.4.2-2build2_amd64.deb ...\n",
            "Unpacking libfcgi0ldbl:amd64 (2.4.2-2build2) ...\n",
            "Selecting previously unselected package libfcgi-perl:amd64.\n",
            "Preparing to unpack .../11-libfcgi-perl_0.82+ds-1build1_amd64.deb ...\n",
            "Unpacking libfcgi-perl:amd64 (0.82+ds-1build1) ...\n",
            "Selecting previously unselected package libcgi-fast-perl.\n",
            "Preparing to unpack .../12-libcgi-fast-perl_1%3a2.15-1_all.deb ...\n",
            "Unpacking libcgi-fast-perl (1:2.15-1) ...\n",
            "Selecting previously unselected package libclone-perl.\n",
            "Preparing to unpack .../13-libclone-perl_0.45-1build3_amd64.deb ...\n",
            "Unpacking libclone-perl (0.45-1build3) ...\n",
            "Selecting previously unselected package libencode-locale-perl.\n",
            "Preparing to unpack .../14-libencode-locale-perl_1.05-1.1_all.deb ...\n",
            "Unpacking libencode-locale-perl (1.05-1.1) ...\n",
            "Selecting previously unselected package libfcgi-bin.\n",
            "Preparing to unpack .../15-libfcgi-bin_2.4.2-2build2_amd64.deb ...\n",
            "Unpacking libfcgi-bin (2.4.2-2build2) ...\n",
            "Selecting previously unselected package libhtml-template-perl.\n",
            "Preparing to unpack .../16-libhtml-template-perl_2.97-1.1_all.deb ...\n",
            "Unpacking libhtml-template-perl (2.97-1.1) ...\n",
            "Selecting previously unselected package libhttp-date-perl.\n",
            "Preparing to unpack .../17-libhttp-date-perl_6.05-1_all.deb ...\n",
            "Unpacking libhttp-date-perl (6.05-1) ...\n",
            "Selecting previously unselected package libio-html-perl.\n",
            "Preparing to unpack .../18-libio-html-perl_1.004-2_all.deb ...\n",
            "Unpacking libio-html-perl (1.004-2) ...\n",
            "Selecting previously unselected package liblwp-mediatypes-perl.\n",
            "Preparing to unpack .../19-liblwp-mediatypes-perl_6.04-1_all.deb ...\n",
            "Unpacking liblwp-mediatypes-perl (6.04-1) ...\n",
            "Selecting previously unselected package libhttp-message-perl.\n",
            "Preparing to unpack .../20-libhttp-message-perl_6.36-1_all.deb ...\n",
            "Unpacking libhttp-message-perl (6.36-1) ...\n",
            "Selecting previously unselected package mecab-utils.\n",
            "Preparing to unpack .../21-mecab-utils_0.996-14build9_amd64.deb ...\n",
            "Unpacking mecab-utils (0.996-14build9) ...\n",
            "Selecting previously unselected package mecab-ipadic.\n",
            "Preparing to unpack .../22-mecab-ipadic_2.7.0-20070801+main-3_all.deb ...\n",
            "Unpacking mecab-ipadic (2.7.0-20070801+main-3) ...\n",
            "Selecting previously unselected package mecab-ipadic-utf8.\n",
            "Preparing to unpack .../23-mecab-ipadic-utf8_2.7.0-20070801+main-3_all.deb ...\n",
            "Unpacking mecab-ipadic-utf8 (2.7.0-20070801+main-3) ...\n",
            "Selecting previously unselected package mysql-server.\n",
            "Preparing to unpack .../24-mysql-server_8.0.36-0ubuntu0.22.04.1_all.deb ...\n",
            "Unpacking mysql-server (8.0.36-0ubuntu0.22.04.1) ...\n",
            "Setting up libhttp-date-perl (6.05-1) ...\n",
            "Setting up libmecab2:amd64 (0.996-14build9) ...\n",
            "Setting up mysql-client-core-8.0 (8.0.36-0ubuntu0.22.04.1) ...\n",
            "Setting up libfcgi0ldbl:amd64 (2.4.2-2build2) ...\n",
            "Setting up libclone-perl (0.45-1build3) ...\n",
            "Setting up libhtml-tagset-perl (3.20-4) ...\n",
            "Setting up liblwp-mediatypes-perl (6.04-1) ...\n",
            "Setting up libfcgi-bin (2.4.2-2build2) ...\n",
            "Setting up libencode-locale-perl (1.05-1.1) ...\n",
            "Setting up libprotobuf-lite23:amd64 (3.12.4-1ubuntu7.22.04.1) ...\n",
            "Setting up mecab-utils (0.996-14build9) ...\n",
            "Setting up libio-html-perl (1.004-2) ...\n",
            "Setting up mysql-server-core-8.0 (8.0.36-0ubuntu0.22.04.1) ...\n",
            "Setting up mysql-client-8.0 (8.0.36-0ubuntu0.22.04.1) ...\n",
            "Setting up libfcgi-perl:amd64 (0.82+ds-1build1) ...\n",
            "Setting up liburi-perl (5.10-1) ...\n",
            "Setting up libhttp-message-perl (6.36-1) ...\n",
            "Setting up mysql-server-8.0 (8.0.36-0ubuntu0.22.04.1) ...\n",
            "invoke-rc.d: could not determine current runlevel\n",
            "invoke-rc.d: policy-rc.d denied execution of stop.\n",
            "update-alternatives: using /etc/mysql/mysql.cnf to provide /etc/mysql/my.cnf (my.cnf) in auto mode\n",
            "Renaming removed key_buffer and myisam-recover options (if present)\n",
            "mysqld will log errors to /var/log/mysql/error.log\n",
            "mysqld is running as pid 1174\n",
            "Created symlink /etc/systemd/system/multi-user.target.wants/mysql.service → /lib/systemd/system/mysql.service.\n",
            "invoke-rc.d: could not determine current runlevel\n",
            "invoke-rc.d: policy-rc.d denied execution of start.\n",
            "Setting up mecab-ipadic (2.7.0-20070801+main-3) ...\n",
            "Compiling IPA dictionary for Mecab.  This takes long time...\n",
            "reading /usr/share/mecab/dic/ipadic/unk.def ... 40\n",
            "emitting double-array: 100% |###########################################| \n",
            "/usr/share/mecab/dic/ipadic/model.def is not found. skipped.\n",
            "reading /usr/share/mecab/dic/ipadic/Noun.adverbal.csv ... 795\n",
            "reading /usr/share/mecab/dic/ipadic/Interjection.csv ... 252\n",
            "reading /usr/share/mecab/dic/ipadic/Prefix.csv ... 221\n",
            "reading /usr/share/mecab/dic/ipadic/Suffix.csv ... 1393\n",
            "reading /usr/share/mecab/dic/ipadic/Adj.csv ... 27210\n",
            "reading /usr/share/mecab/dic/ipadic/Postp.csv ... 146\n",
            "reading /usr/share/mecab/dic/ipadic/Noun.verbal.csv ... 12146\n",
            "reading /usr/share/mecab/dic/ipadic/Postp-col.csv ... 91\n",
            "reading /usr/share/mecab/dic/ipadic/Noun.others.csv ... 151\n",
            "reading /usr/share/mecab/dic/ipadic/Noun.number.csv ... 42\n",
            "reading /usr/share/mecab/dic/ipadic/Adverb.csv ... 3032\n",
            "reading /usr/share/mecab/dic/ipadic/Noun.org.csv ... 16668\n",
            "reading /usr/share/mecab/dic/ipadic/Verb.csv ... 130750\n",
            "reading /usr/share/mecab/dic/ipadic/Noun.csv ... 60477\n",
            "reading /usr/share/mecab/dic/ipadic/Noun.place.csv ... 72999\n",
            "reading /usr/share/mecab/dic/ipadic/Symbol.csv ... 208\n",
            "reading /usr/share/mecab/dic/ipadic/Noun.adjv.csv ... 3328\n",
            "reading /usr/share/mecab/dic/ipadic/Adnominal.csv ... 135\n",
            "reading /usr/share/mecab/dic/ipadic/Noun.demonst.csv ... 120\n",
            "reading /usr/share/mecab/dic/ipadic/Conjunction.csv ... 171\n",
            "reading /usr/share/mecab/dic/ipadic/Others.csv ... 2\n",
            "reading /usr/share/mecab/dic/ipadic/Noun.nai.csv ... 42\n",
            "reading /usr/share/mecab/dic/ipadic/Auxil.csv ... 199\n",
            "reading /usr/share/mecab/dic/ipadic/Noun.proper.csv ... 27328\n",
            "reading /usr/share/mecab/dic/ipadic/Noun.name.csv ... 34202\n",
            "reading /usr/share/mecab/dic/ipadic/Filler.csv ... 19\n",
            "emitting double-array: 100% |###########################################| \n",
            "reading /usr/share/mecab/dic/ipadic/matrix.def ... 1316x1316\n",
            "emitting matrix      : 100% |###########################################| \n",
            "\n",
            "done!\n",
            "update-alternatives: using /var/lib/mecab/dic/ipadic to provide /var/lib/mecab/dic/debian (mecab-dictionary) in auto mode\n",
            "Setting up mecab-ipadic-utf8 (2.7.0-20070801+main-3) ...\n",
            "Compiling IPA dictionary for Mecab.  This takes long time...\n",
            "reading /usr/share/mecab/dic/ipadic/unk.def ... 40\n",
            "emitting double-array: 100% |###########################################| \n",
            "/usr/share/mecab/dic/ipadic/model.def is not found. skipped.\n",
            "reading /usr/share/mecab/dic/ipadic/Noun.adverbal.csv ... 795\n",
            "reading /usr/share/mecab/dic/ipadic/Interjection.csv ... 252\n",
            "reading /usr/share/mecab/dic/ipadic/Prefix.csv ... 221\n",
            "reading /usr/share/mecab/dic/ipadic/Suffix.csv ... 1393\n",
            "reading /usr/share/mecab/dic/ipadic/Adj.csv ... 27210\n",
            "reading /usr/share/mecab/dic/ipadic/Postp.csv ... 146\n",
            "reading /usr/share/mecab/dic/ipadic/Noun.verbal.csv ... 12146\n",
            "reading /usr/share/mecab/dic/ipadic/Postp-col.csv ... 91\n",
            "reading /usr/share/mecab/dic/ipadic/Noun.others.csv ... 151\n",
            "reading /usr/share/mecab/dic/ipadic/Noun.number.csv ... 42\n",
            "reading /usr/share/mecab/dic/ipadic/Adverb.csv ... 3032\n",
            "reading /usr/share/mecab/dic/ipadic/Noun.org.csv ... 16668\n",
            "reading /usr/share/mecab/dic/ipadic/Verb.csv ... 130750\n",
            "reading /usr/share/mecab/dic/ipadic/Noun.csv ... 60477\n",
            "reading /usr/share/mecab/dic/ipadic/Noun.place.csv ... 72999\n",
            "reading /usr/share/mecab/dic/ipadic/Symbol.csv ... 208\n",
            "reading /usr/share/mecab/dic/ipadic/Noun.adjv.csv ... 3328\n",
            "reading /usr/share/mecab/dic/ipadic/Adnominal.csv ... 135\n",
            "reading /usr/share/mecab/dic/ipadic/Noun.demonst.csv ... 120\n",
            "reading /usr/share/mecab/dic/ipadic/Conjunction.csv ... 171\n",
            "reading /usr/share/mecab/dic/ipadic/Others.csv ... 2\n",
            "reading /usr/share/mecab/dic/ipadic/Noun.nai.csv ... 42\n",
            "reading /usr/share/mecab/dic/ipadic/Auxil.csv ... 199\n",
            "reading /usr/share/mecab/dic/ipadic/Noun.proper.csv ... 27328\n",
            "reading /usr/share/mecab/dic/ipadic/Noun.name.csv ... 34202\n",
            "reading /usr/share/mecab/dic/ipadic/Filler.csv ... 19\n",
            "emitting double-array: 100% |###########################################| \n",
            "reading /usr/share/mecab/dic/ipadic/matrix.def ... 1316x1316\n",
            "emitting matrix      : 100% |###########################################| \n",
            "\n",
            "done!\n",
            "update-alternatives: using /var/lib/mecab/dic/ipadic-utf8 to provide /var/lib/mecab/dic/debian (mecab-dictionary) in auto mode\n",
            "Setting up libhtml-parser-perl:amd64 (3.76-1build2) ...\n",
            "Setting up mysql-server (8.0.36-0ubuntu0.22.04.1) ...\n",
            "Setting up libcgi-pm-perl (4.54-1) ...\n",
            "Setting up libhtml-template-perl (2.97-1.1) ...\n",
            "Setting up libcgi-fast-perl (1:2.15-1) ...\n",
            "Processing triggers for man-db (2.10.2-1) ...\n",
            "Processing triggers for libc-bin (2.35-0ubuntu3.4) ...\n",
            "/sbin/ldconfig.real: /usr/local/lib/libtbbmalloc_proxy.so.2 is not a symbolic link\n",
            "\n",
            "/sbin/ldconfig.real: /usr/local/lib/libtbbbind.so.3 is not a symbolic link\n",
            "\n",
            "/sbin/ldconfig.real: /usr/local/lib/libtbbmalloc.so.2 is not a symbolic link\n",
            "\n",
            "/sbin/ldconfig.real: /usr/local/lib/libtbb.so.12 is not a symbolic link\n",
            "\n",
            "/sbin/ldconfig.real: /usr/local/lib/libtbbbind_2_5.so.3 is not a symbolic link\n",
            "\n",
            "/sbin/ldconfig.real: /usr/local/lib/libtbbbind_2_0.so.3 is not a symbolic link\n",
            "\n"
          ]
        }
      ]
    },
    {
      "cell_type": "markdown",
      "source": [
        "3.- Iniciando el servidor de MySQL"
      ],
      "metadata": {
        "id": "u67GTWOH6aLn"
      }
    },
    {
      "cell_type": "markdown",
      "source": [
        "4.- Instalación segura"
      ],
      "metadata": {
        "id": "GCs6LQ_96r5y"
      }
    },
    {
      "cell_type": "code",
      "source": [
        "!mysql -e \"ALTER USER 'root'@'localhost' IDENTIFIED WITH 'mysql_native_password' BY 'root';FLUSH PRIVILEGES;\"\n"
      ],
      "metadata": {
        "id": "PUW03kg76raL"
      },
      "execution_count": 6,
      "outputs": []
    },
    {
      "cell_type": "markdown",
      "source": [
        "5.- Conexión a MySQL y creación de tablas"
      ],
      "metadata": {
        "id": "U0yHPMdX7YHN"
      }
    },
    {
      "cell_type": "code",
      "source": [
        "import mysql.connector\n",
        "\n",
        "# Crear una conexión al servidor MySQL\n",
        "conn = mysql.connector.connect(user='root', password='root', host='localhost')\n",
        "\n",
        "# Crear un cursor para interactuar con el servidor MySQL\n",
        "cursor = conn.cursor()\n",
        "\n",
        "# Creación de una nueva base de datos 'meteoDB'\n",
        "cursor.execute(\"CREATE DATABASE IF NOT EXISTS meteoDB\")\n",
        "\n",
        "# Se hace 'USO' de la BBDD 'meteoDB\n",
        "cursor.execute(\"USE meteoDB\")\n",
        "\n",
        "# Crear la tabla 'weatherStation' y 'weatherData'\n",
        "\n",
        "cursor.execute('''\n",
        "CREATE TABLE IF NOT EXISTS weatherStation (\n",
        "    id INT AUTO_INCREMENT PRIMARY KEY,\n",
        "    name VARCHAR(255) NOT NULL,\n",
        "    province VARCHAR(255) NOT NULL,\n",
        "    latitude FLOAT,\n",
        "    longitude FLOAT\n",
        ");\n",
        "''')\n",
        "\n",
        "cursor.execute('''\n",
        "CREATE TABLE IF NOT EXISTS weatherData (\n",
        "    id INT AUTO_INCREMENT PRIMARY KEY,\n",
        "    date DATE NOT NULL,\n",
        "    avgAirTemperature FLOAT,\n",
        "    precipitation FLOAT,\n",
        "    minAirTemperature FLOAT,\n",
        "    maxAirTemperature FLOAT,\n",
        "    station_id INT,\n",
        "    FOREIGN KEY (station_id) REFERENCES weatherStation(id)\n",
        ");\n",
        "''')\n",
        "\n",
        "cursor.close()\n",
        "conn.close()"
      ],
      "metadata": {
        "id": "4oeEV3zL7lCD"
      },
      "execution_count": 11,
      "outputs": []
    },
    {
      "cell_type": "markdown",
      "source": [
        "6.- Consultas SQL"
      ],
      "metadata": {
        "id": "Wf_Q1u5dINX9"
      }
    },
    {
      "cell_type": "code",
      "source": [
        "import mysql.connector\n",
        "\n",
        "# Crear una conexión al servidor MySQL\n",
        "conn = mysql.connector.connect(user='root', password='root', host='localhost', database='meteoDB')\n",
        "\n",
        "cursor = conn.cursor()\n",
        "\n",
        "cursor.execute(\"DELETE FROM weatherData\")\n",
        "cursor.execute(\"DELETE FROM weatherStation\")\n",
        "\n",
        "stations = [\n",
        "    ('100', 'MANRESA','BARCELONA',41.72, 1.84),\n",
        "    ('200', 'PORQUERES','GIRONA',42.10, 2.76),\n",
        "    ('300','PORQUERES','GIRONA',42.10, 2.76),\n",
        "    ('400', 'BARCELONA, FABRA','BARCELONA',41.41, 2.12)\n",
        "]\n",
        "\n",
        "cursor.executemany('''\n",
        "INSERT INTO weatherStation (id, name, province, latitude, longitude)\n",
        "  VALUES   (%s, %s, %s, %s, %s)\n",
        "''', stations)\n",
        "\n",
        "\n",
        "data = [\n",
        "    ( '2023-11-10', '18.1', '0', '11.4', '24.8', '100'),\n",
        "    ( '2023-11-11', '13.5', '0', '7.8', '19.2', '200'),\n",
        "    ( '2023-11-12', '13.4', '0', '8.8', '18.1', '200'),\n",
        "    ( '2023-11-13', '18.1', '20', '19.4', '24.8', '300'),\n",
        "    ( '2023-11-14', '13.6', '5', '9.9', '19.2', '300'),\n",
        "    ( '2023-11-15', '12.4', '6', '6.7', '20.3', '300')\n",
        "]\n",
        "\n",
        "cursor.executemany('''\n",
        "INSERT INTO weatherData  (date, avgAirTemperature, precipitation, minAirTemperature, maxAirTemperature, station_id)\n",
        "  VALUES   (%s, %s, %s, %s, %s, %s)\n",
        "''', data)\n",
        "\n",
        "conn.commit()\n",
        "\n",
        "\n",
        "cursor.close()\n",
        "conn.close()"
      ],
      "metadata": {
        "id": "AJaEISvlJhto"
      },
      "execution_count": 4,
      "outputs": []
    },
    {
      "cell_type": "code",
      "source": [
        "\n",
        "import mysql.connector\n",
        "\n",
        "# Crear una conexión al servidor MySQL\n",
        "conn = mysql.connector.connect(user='root', password='root', host='localhost', database='meteoDB')\n",
        "\n",
        "\n",
        "# Crear un cursor para interactuar con el servidor MySQL\n",
        "cursor = conn.cursor()\n",
        "cursor.execute(\"SELECT *  FROM weatherStation \")\n",
        "records = cursor.fetchall()\n",
        "\n",
        "\n",
        "for record in records:\n",
        "    print(record)"
      ],
      "metadata": {
        "colab": {
          "base_uri": "https://localhost:8080/"
        },
        "id": "uJdNJQJ-IH1M",
        "outputId": "8f00ac7c-a662-44ca-f345-29b3fc6a6257"
      },
      "execution_count": 20,
      "outputs": [
        {
          "output_type": "stream",
          "name": "stdout",
          "text": [
            "(100, 'MANRESA', 'BARCELONA', 41.72, 1.84)\n",
            "(200, 'PORQUERES', 'GIRONA', 42.1, 2.76)\n",
            "(300, 'PORQUERES', 'GIRONA', 42.1, 2.76)\n",
            "(400, 'BARCELONA, FABRA', 'BARCELONA', 41.41, 2.12)\n"
          ]
        }
      ]
    },
    {
      "cell_type": "code",
      "source": [
        "import mysql.connector\n",
        "\n",
        "# Crear una conexión al servidor MySQL\n",
        "conn = mysql.connector.connect(user='root', password='root', host='localhost', database='meteoDB')\n",
        "\n",
        "\n",
        "# Crear un cursor para interactuar con el servidor MySQL\n",
        "cursor = conn.cursor()\n",
        "\n",
        "cursor.execute(\"SELECT *  FROM weatherData\")\n",
        "records = cursor.fetchall()\n",
        "\n",
        "for record in records:\n",
        "    print(record)"
      ],
      "metadata": {
        "colab": {
          "base_uri": "https://localhost:8080/"
        },
        "id": "gH6SZ7pTYHEW",
        "outputId": "077a413f-a9df-43be-9e61-52b923e6a310"
      },
      "execution_count": 21,
      "outputs": [
        {
          "output_type": "stream",
          "name": "stdout",
          "text": [
            "(6, datetime.date(2023, 11, 10), 18.1, 0.0, 11.4, 24.8, 100)\n",
            "(7, datetime.date(2023, 11, 11), 13.5, 0.0, 7.8, 19.2, 200)\n",
            "(8, datetime.date(2023, 11, 12), 13.4, 0.0, 8.8, 18.1, 200)\n",
            "(9, datetime.date(2023, 11, 13), 18.1, 20.0, 19.4, 24.8, 300)\n",
            "(10, datetime.date(2023, 11, 14), 13.6, 5.0, 9.9, 19.2, 300)\n",
            "(11, datetime.date(2023, 11, 15), 12.4, 6.0, 6.7, 20.3, 300)\n"
          ]
        }
      ]
    },
    {
      "cell_type": "code",
      "source": [
        "import mysql.connector\n",
        "\n",
        "# Crear una conexión al servidor MySQL\n",
        "conn = mysql.connector.connect(user='root', password='root', host='localhost', database='meteoDB')\n",
        "\n",
        "\n",
        "# Crear un cursor para interactuar con el servidor MySQL\n",
        "cursor = conn.cursor()\n",
        "\n",
        "# Ejecutar la query\n",
        "cursor.execute(\"SELECT *  FROM weatherData where station_id = 300\")\n",
        "\n",
        "records = cursor.fetchall()\n",
        "\n",
        "# Resultado de la consulta\n",
        "for record in records:\n",
        "    print(record)"
      ],
      "metadata": {
        "colab": {
          "base_uri": "https://localhost:8080/"
        },
        "id": "X2xVo_qWYRP_",
        "outputId": "803c529c-0669-4d8c-9d89-c5f361b7a973"
      },
      "execution_count": 22,
      "outputs": [
        {
          "output_type": "stream",
          "name": "stdout",
          "text": [
            "(9, datetime.date(2023, 11, 13), 18.1, 20.0, 19.4, 24.8, 300)\n",
            "(10, datetime.date(2023, 11, 14), 13.6, 5.0, 9.9, 19.2, 300)\n",
            "(11, datetime.date(2023, 11, 15), 12.4, 6.0, 6.7, 20.3, 300)\n"
          ]
        }
      ]
    },
    {
      "cell_type": "code",
      "source": [
        "import mysql.connector\n",
        "\n",
        "# Crear una conexión al servidor MySQL\n",
        "conn = mysql.connector.connect(user='root', password='root', host='localhost', database='meteoDB')\n",
        "\n",
        "\n",
        "cursor = conn.cursor()\n",
        "cursor.execute(\"SELECT *  FROM weatherStation s, weatherData d WHERE s.id = d.station_id\")\n",
        "records = cursor.fetchall()\n",
        "\n",
        "for record in records:\n",
        "    print(record)"
      ],
      "metadata": {
        "colab": {
          "base_uri": "https://localhost:8080/"
        },
        "id": "6EGU7ofcYa0H",
        "outputId": "a7c0b124-511a-42be-e729-a93bc98101d2"
      },
      "execution_count": 9,
      "outputs": [
        {
          "output_type": "stream",
          "name": "stdout",
          "text": [
            "(100, 'MANRESA', 'BARCELONA', 41.72, 1.84, 6, datetime.date(2023, 11, 10), 18.1, 0.0, 11.4, 24.8, 100)\n",
            "(200, 'PORQUERES', 'GIRONA', 42.1, 2.76, 7, datetime.date(2023, 11, 11), 13.5, 0.0, 7.8, 19.2, 200)\n",
            "(200, 'PORQUERES', 'GIRONA', 42.1, 2.76, 8, datetime.date(2023, 11, 12), 13.4, 0.0, 8.8, 18.1, 200)\n",
            "(300, 'PORQUERES', 'GIRONA', 42.1, 2.76, 9, datetime.date(2023, 11, 13), 18.1, 20.0, 19.4, 24.8, 300)\n",
            "(300, 'PORQUERES', 'GIRONA', 42.1, 2.76, 10, datetime.date(2023, 11, 14), 13.6, 5.0, 9.9, 19.2, 300)\n",
            "(300, 'PORQUERES', 'GIRONA', 42.1, 2.76, 11, datetime.date(2023, 11, 15), 12.4, 6.0, 6.7, 20.3, 300)\n"
          ]
        }
      ]
    },
    {
      "cell_type": "code",
      "source": [
        "import mysql.connector\n",
        "\n",
        "# Crear una conexión al servidor MySQL\n",
        "conn = mysql.connector.connect(user='root', password='root', host='localhost', database='meteoDB')\n",
        "\n",
        "\n",
        "# Crear un cursor para interactuar con el servidor MySQL\n",
        "cursor = conn.cursor()\n",
        "\n",
        "cursor.execute('''\n",
        "SELECT s.name,\n",
        "  AVG(avgAirTemperature) AS avgAvgAirTemperature,\n",
        "  AVG(precipitation) AS avgPrecipitation,\n",
        "  AVG(minAirTemperature) AS avgMinAirTemperature,\n",
        "  AVG(maxAirTemperature) AS avgMaxAirTemperature\n",
        "  FROM weatherStation s, weatherData d\n",
        "  GROUP BY s.name;\n",
        "''')\n",
        "\n",
        "records = cursor.fetchall()\n",
        "\n",
        "for record in records:\n",
        "    print(record)"
      ],
      "metadata": {
        "colab": {
          "base_uri": "https://localhost:8080/"
        },
        "id": "tRZrd4nQYjLA",
        "outputId": "cef59047-d799-4d63-eec9-7dc989772da8"
      },
      "execution_count": 18,
      "outputs": [
        {
          "output_type": "stream",
          "name": "stdout",
          "text": [
            "('BARCELONA, FABRA', 14.850000063578287, 5.166666666666667, 10.666666507720947, 21.06666660308838)\n",
            "('PORQUERES', 14.850000063578287, 5.166666666666667, 10.666666507720947, 21.06666660308838)\n",
            "('MANRESA', 14.850000063578287, 5.166666666666667, 10.666666507720947, 21.06666660308838)\n"
          ]
        }
      ]
    },
    {
      "cell_type": "code",
      "source": [
        "import mysql.connector\n",
        "\n",
        "# Crear una conexión al servidor MySQL\n",
        "conn = mysql.connector.connect(user='root', password='root', host='localhost', database='meteoDB')\n",
        "\n",
        "# Crear un cursor para interactuar con el servidor MySQL\n",
        "cursor = conn.cursor()\n",
        "\n",
        "# borrar las tablas\n",
        "cursor.execute('''\n",
        "DROP TABLE IF EXISTS weatherData;\n",
        "DROP TABLE IF EXISTS weatherStation;\n",
        "''')\n",
        "\n",
        "cursor.close()\n",
        "conn.close()"
      ],
      "metadata": {
        "id": "ktsiWfxM_D0b"
      },
      "execution_count": 2,
      "outputs": []
    },
    {
      "cell_type": "code",
      "source": [
        "import pandas as pd\n",
        "\n",
        "# Connect to MySQL\n",
        "conn = mysql.connector.connect(user='root', password='root', host='localhost', database='meteoDB')\n",
        "\n",
        "# Fetch data into a pandas DataFrame\n",
        "query = \"SELECT * FROM weatherData\"\n",
        "df = pd.read_sql(query, conn)\n",
        "\n",
        "print(df.info())\n",
        "\n",
        "print(df.head())\n"
      ],
      "metadata": {
        "colab": {
          "base_uri": "https://localhost:8080/"
        },
        "id": "j74d3PTmQf6k",
        "outputId": "99d4ecd6-114f-4e94-ede5-0bcc0cc2f58d"
      },
      "execution_count": 19,
      "outputs": [
        {
          "output_type": "stream",
          "name": "stdout",
          "text": [
            "<class 'pandas.core.frame.DataFrame'>\n",
            "RangeIndex: 6 entries, 0 to 5\n",
            "Data columns (total 7 columns):\n",
            " #   Column             Non-Null Count  Dtype  \n",
            "---  ------             --------------  -----  \n",
            " 0   id                 6 non-null      int64  \n",
            " 1   date               6 non-null      object \n",
            " 2   avgAirTemperature  6 non-null      float64\n",
            " 3   precipitation      6 non-null      float64\n",
            " 4   minAirTemperature  6 non-null      float64\n",
            " 5   maxAirTemperature  6 non-null      float64\n",
            " 6   station_id         6 non-null      int64  \n",
            "dtypes: float64(4), int64(2), object(1)\n",
            "memory usage: 464.0+ bytes\n",
            "None\n",
            "   id        date  avgAirTemperature  precipitation  minAirTemperature  \\\n",
            "0   6  2023-11-10               18.1            0.0               11.4   \n",
            "1   7  2023-11-11               13.5            0.0                7.8   \n",
            "2   8  2023-11-12               13.4            0.0                8.8   \n",
            "3   9  2023-11-13               18.1           20.0               19.4   \n",
            "4  10  2023-11-14               13.6            5.0                9.9   \n",
            "\n",
            "   maxAirTemperature  station_id  \n",
            "0               24.8         100  \n",
            "1               19.2         200  \n",
            "2               18.1         200  \n",
            "3               24.8         300  \n",
            "4               19.2         300  \n"
          ]
        },
        {
          "output_type": "stream",
          "name": "stderr",
          "text": [
            "<ipython-input-19-2d3e21e06913>:8: UserWarning: pandas only supports SQLAlchemy connectable (engine/connection) or database string URI or sqlite3 DBAPI2 connection. Other DBAPI2 objects are not tested. Please consider using SQLAlchemy.\n",
            "  df = pd.read_sql(query, conn)\n"
          ]
        }
      ]
    }
  ]
}